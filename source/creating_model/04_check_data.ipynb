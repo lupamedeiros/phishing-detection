{
 "cells": [
  {
   "cell_type": "markdown",
   "metadata": {},
   "source": [
    "# 4 Data Check\n",
    "\n",
    "At this point we verify the pre_processed data to check if it is ready to use.\n",
    "\n",
    "We are going to perform a series of unit tests using pytest. The test functions are implemented at [test_data.py](./test_data.py).\n",
    "\n",
    "Run:\n",
    "\n",
    "    wandb login --relogin\n",
    "    pytest source/creating_model/ -vv"
   ]
  }
 ],
 "metadata": {
  "interpreter": {
   "hash": "0516115c1436dd02cc9aaeb46289bc8de003b2cfd80475fe9086d29053953beb"
  },
  "kernelspec": {
   "display_name": "Python 3.8.13 ('phishing-detection')",
   "language": "python",
   "name": "python3"
  },
  "language_info": {
   "name": "python",
   "version": "3.8.13"
  },
  "orig_nbformat": 4
 },
 "nbformat": 4,
 "nbformat_minor": 2
}
