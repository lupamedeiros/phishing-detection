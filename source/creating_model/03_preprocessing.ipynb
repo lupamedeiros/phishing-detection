{
 "cells": [
  {
   "cell_type": "markdown",
   "metadata": {},
   "source": [
    "# 3 Preprocessing\n",
    "\n",
    "Login to wandb:\n",
    "\n",
    "    wandb login --relogin"
   ]
  },
  {
   "cell_type": "markdown",
   "metadata": {},
   "source": [
    "## 3.1 Load libraries"
   ]
  },
  {
   "cell_type": "code",
   "execution_count": 2,
   "metadata": {},
   "outputs": [],
   "source": [
    "import wandb\n",
    "import pandas as pd"
   ]
  },
  {
   "cell_type": "markdown",
   "metadata": {},
   "source": [
    "## 3.2 Artifacts"
   ]
  },
  {
   "cell_type": "code",
   "execution_count": 7,
   "metadata": {},
   "outputs": [],
   "source": [
    "input_artifact=\"phishing-detection/raw_data.csv:latest\"\n",
    "artifact_name=\"preprocessed_data.csv\"\n",
    "artifact_type=\"data\"\n",
    "artifact_description=\"raw_data after preprocessing\""
   ]
  },
  {
   "cell_type": "markdown",
   "metadata": {},
   "source": [
    "## 3.3 Setup WandB project and clean the dataset\n",
    "\n",
    "At this section we retrieve the raw_data from WandB, do the preprocessing and store the new artifact into WandB."
   ]
  },
  {
   "cell_type": "code",
   "execution_count": 4,
   "metadata": {},
   "outputs": [
    {
     "name": "stderr",
     "output_type": "stream",
     "text": [
      "\u001b[34m\u001b[1mwandb\u001b[0m: Currently logged in as: \u001b[33mlupamedeiros\u001b[0m. Use \u001b[1m`wandb login --relogin`\u001b[0m to force relogin\n"
     ]
    },
    {
     "data": {
      "text/html": [
       "Tracking run with wandb version 0.12.16"
      ],
      "text/plain": [
       "<IPython.core.display.HTML object>"
      ]
     },
     "metadata": {},
     "output_type": "display_data"
    },
    {
     "data": {
      "text/html": [
       "Run data is saved locally in <code>/home/luiz/repositorios/phishing-detection/source/creating_model/wandb/run-20220517_155302-1s89t7y0</code>"
      ],
      "text/plain": [
       "<IPython.core.display.HTML object>"
      ]
     },
     "metadata": {},
     "output_type": "display_data"
    },
    {
     "data": {
      "text/html": [
       "Syncing run <strong><a href=\"https://wandb.ai/lupamedeiros/phishing-detection/runs/1s89t7y0\" target=\"_blank\">worthy-energy-3</a></strong> to <a href=\"https://wandb.ai/lupamedeiros/phishing-detection\" target=\"_blank\">Weights & Biases</a> (<a href=\"https://wandb.me/run\" target=\"_blank\">docs</a>)<br/>"
      ],
      "text/plain": [
       "<IPython.core.display.HTML object>"
      ]
     },
     "metadata": {},
     "output_type": "display_data"
    }
   ],
   "source": [
    "# create new job_type\n",
    "run = wandb.init(project=\"phishing-detection\",job_type=\"process_data\")"
   ]
  },
  {
   "cell_type": "code",
   "execution_count": 8,
   "metadata": {},
   "outputs": [
    {
     "ename": "CommError",
     "evalue": "Project lupamedeiros/phishing\\-detection does not contain artifact: \"raw_data.csv:latest\"",
     "output_type": "error",
     "traceback": [
      "\u001b[0;31m---------------------------------------------------------------------------\u001b[0m",
      "\u001b[0;31mValueError\u001b[0m                                Traceback (most recent call last)",
      "File \u001b[0;32m~/anaconda3/envs/phishing-detection/lib/python3.8/site-packages/wandb/apis/normalize.py:22\u001b[0m, in \u001b[0;36mnormalize_exceptions.<locals>.wrapper\u001b[0;34m(*args, **kwargs)\u001b[0m\n\u001b[1;32m     <a href='file:///home/luiz/anaconda3/envs/phishing-detection/lib/python3.8/site-packages/wandb/apis/normalize.py?line=20'>21</a>\u001b[0m \u001b[39mtry\u001b[39;00m:\n\u001b[0;32m---> <a href='file:///home/luiz/anaconda3/envs/phishing-detection/lib/python3.8/site-packages/wandb/apis/normalize.py?line=21'>22</a>\u001b[0m     \u001b[39mreturn\u001b[39;00m func(\u001b[39m*\u001b[39;49margs, \u001b[39m*\u001b[39;49m\u001b[39m*\u001b[39;49mkwargs)\n\u001b[1;32m     <a href='file:///home/luiz/anaconda3/envs/phishing-detection/lib/python3.8/site-packages/wandb/apis/normalize.py?line=22'>23</a>\u001b[0m \u001b[39mexcept\u001b[39;00m requests\u001b[39m.\u001b[39mHTTPError \u001b[39mas\u001b[39;00m err:\n",
      "File \u001b[0;32m~/anaconda3/envs/phishing-detection/lib/python3.8/site-packages/wandb/apis/public.py:777\u001b[0m, in \u001b[0;36mApi.artifact\u001b[0;34m(self, name, type)\u001b[0m\n\u001b[1;32m    <a href='file:///home/luiz/anaconda3/envs/phishing-detection/lib/python3.8/site-packages/wandb/apis/public.py?line=775'>776</a>\u001b[0m entity, project, artifact_name \u001b[39m=\u001b[39m \u001b[39mself\u001b[39m\u001b[39m.\u001b[39m_parse_artifact_path(name)\n\u001b[0;32m--> <a href='file:///home/luiz/anaconda3/envs/phishing-detection/lib/python3.8/site-packages/wandb/apis/public.py?line=776'>777</a>\u001b[0m artifact \u001b[39m=\u001b[39m Artifact(\u001b[39mself\u001b[39;49m\u001b[39m.\u001b[39;49mclient, entity, project, artifact_name)\n\u001b[1;32m    <a href='file:///home/luiz/anaconda3/envs/phishing-detection/lib/python3.8/site-packages/wandb/apis/public.py?line=777'>778</a>\u001b[0m \u001b[39mif\u001b[39;00m \u001b[39mtype\u001b[39m \u001b[39mis\u001b[39;00m \u001b[39mnot\u001b[39;00m \u001b[39mNone\u001b[39;00m \u001b[39mand\u001b[39;00m artifact\u001b[39m.\u001b[39mtype \u001b[39m!=\u001b[39m \u001b[39mtype\u001b[39m:\n",
      "File \u001b[0;32m~/anaconda3/envs/phishing-detection/lib/python3.8/site-packages/wandb/apis/public.py:3493\u001b[0m, in \u001b[0;36mArtifact.__init__\u001b[0;34m(self, client, entity, project, name, attrs)\u001b[0m\n\u001b[1;32m   <a href='file:///home/luiz/anaconda3/envs/phishing-detection/lib/python3.8/site-packages/wandb/apis/public.py?line=3491'>3492</a>\u001b[0m \u001b[39mif\u001b[39;00m \u001b[39mself\u001b[39m\u001b[39m.\u001b[39m_attrs \u001b[39mis\u001b[39;00m \u001b[39mNone\u001b[39;00m:\n\u001b[0;32m-> <a href='file:///home/luiz/anaconda3/envs/phishing-detection/lib/python3.8/site-packages/wandb/apis/public.py?line=3492'>3493</a>\u001b[0m     \u001b[39mself\u001b[39;49m\u001b[39m.\u001b[39;49m_load()\n\u001b[1;32m   <a href='file:///home/luiz/anaconda3/envs/phishing-detection/lib/python3.8/site-packages/wandb/apis/public.py?line=3493'>3494</a>\u001b[0m \u001b[39mself\u001b[39m\u001b[39m.\u001b[39m_metadata \u001b[39m=\u001b[39m json\u001b[39m.\u001b[39mloads(\u001b[39mself\u001b[39m\u001b[39m.\u001b[39m_attrs\u001b[39m.\u001b[39mget(\u001b[39m\"\u001b[39m\u001b[39mmetadata\u001b[39m\u001b[39m\"\u001b[39m) \u001b[39mor\u001b[39;00m \u001b[39m\"\u001b[39m\u001b[39m{}\u001b[39;00m\u001b[39m\"\u001b[39m)\n",
      "File \u001b[0;32m~/anaconda3/envs/phishing-detection/lib/python3.8/site-packages/wandb/apis/public.py:4060\u001b[0m, in \u001b[0;36mArtifact._load\u001b[0;34m(self)\u001b[0m\n\u001b[1;32m   <a href='file:///home/luiz/anaconda3/envs/phishing-detection/lib/python3.8/site-packages/wandb/apis/public.py?line=4054'>4055</a>\u001b[0m \u001b[39mif\u001b[39;00m (\n\u001b[1;32m   <a href='file:///home/luiz/anaconda3/envs/phishing-detection/lib/python3.8/site-packages/wandb/apis/public.py?line=4055'>4056</a>\u001b[0m     response \u001b[39mis\u001b[39;00m \u001b[39mNone\u001b[39;00m\n\u001b[1;32m   <a href='file:///home/luiz/anaconda3/envs/phishing-detection/lib/python3.8/site-packages/wandb/apis/public.py?line=4056'>4057</a>\u001b[0m     \u001b[39mor\u001b[39;00m response\u001b[39m.\u001b[39mget(\u001b[39m\"\u001b[39m\u001b[39mproject\u001b[39m\u001b[39m\"\u001b[39m) \u001b[39mis\u001b[39;00m \u001b[39mNone\u001b[39;00m\n\u001b[1;32m   <a href='file:///home/luiz/anaconda3/envs/phishing-detection/lib/python3.8/site-packages/wandb/apis/public.py?line=4057'>4058</a>\u001b[0m     \u001b[39mor\u001b[39;00m response[\u001b[39m\"\u001b[39m\u001b[39mproject\u001b[39m\u001b[39m\"\u001b[39m]\u001b[39m.\u001b[39mget(\u001b[39m\"\u001b[39m\u001b[39martifact\u001b[39m\u001b[39m\"\u001b[39m) \u001b[39mis\u001b[39;00m \u001b[39mNone\u001b[39;00m\n\u001b[1;32m   <a href='file:///home/luiz/anaconda3/envs/phishing-detection/lib/python3.8/site-packages/wandb/apis/public.py?line=4058'>4059</a>\u001b[0m ):\n\u001b[0;32m-> <a href='file:///home/luiz/anaconda3/envs/phishing-detection/lib/python3.8/site-packages/wandb/apis/public.py?line=4059'>4060</a>\u001b[0m     \u001b[39mraise\u001b[39;00m \u001b[39mValueError\u001b[39;00m(\n\u001b[1;32m   <a href='file:///home/luiz/anaconda3/envs/phishing-detection/lib/python3.8/site-packages/wandb/apis/public.py?line=4060'>4061</a>\u001b[0m         \u001b[39m'\u001b[39m\u001b[39mProject \u001b[39m\u001b[39m%s\u001b[39;00m\u001b[39m/\u001b[39m\u001b[39m%s\u001b[39;00m\u001b[39m does not contain artifact: \u001b[39m\u001b[39m\"\u001b[39m\u001b[39m%s\u001b[39;00m\u001b[39m\"\u001b[39m\u001b[39m'\u001b[39m\n\u001b[1;32m   <a href='file:///home/luiz/anaconda3/envs/phishing-detection/lib/python3.8/site-packages/wandb/apis/public.py?line=4061'>4062</a>\u001b[0m         \u001b[39m%\u001b[39m (\u001b[39mself\u001b[39m\u001b[39m.\u001b[39mentity, \u001b[39mself\u001b[39m\u001b[39m.\u001b[39mproject, \u001b[39mself\u001b[39m\u001b[39m.\u001b[39m_artifact_name)\n\u001b[1;32m   <a href='file:///home/luiz/anaconda3/envs/phishing-detection/lib/python3.8/site-packages/wandb/apis/public.py?line=4062'>4063</a>\u001b[0m     )\n\u001b[1;32m   <a href='file:///home/luiz/anaconda3/envs/phishing-detection/lib/python3.8/site-packages/wandb/apis/public.py?line=4063'>4064</a>\u001b[0m \u001b[39mself\u001b[39m\u001b[39m.\u001b[39m_attrs \u001b[39m=\u001b[39m response[\u001b[39m\"\u001b[39m\u001b[39mproject\u001b[39m\u001b[39m\"\u001b[39m][\u001b[39m\"\u001b[39m\u001b[39martifact\u001b[39m\u001b[39m\"\u001b[39m]\n",
      "\u001b[0;31mValueError\u001b[0m: Project lupamedeiros/phishing\\-detection does not contain artifact: \"raw_data.csv:latest\"",
      "\nDuring handling of the above exception, another exception occurred:\n",
      "\u001b[0;31mCommError\u001b[0m                                 Traceback (most recent call last)",
      "\u001b[1;32m/home/luiz/repositorios/phishing-detection/source/creating_model/03_preprocessing.ipynb Cell 8'\u001b[0m in \u001b[0;36m<cell line: 2>\u001b[0;34m()\u001b[0m\n\u001b[1;32m      <a href='vscode-notebook-cell:/home/luiz/repositorios/phishing-detection/source/creating_model/03_preprocessing.ipynb#ch0000008?line=0'>1</a>\u001b[0m \u001b[39m# download the latest version of artifact raw_data.csv\u001b[39;00m\n\u001b[0;32m----> <a href='vscode-notebook-cell:/home/luiz/repositorios/phishing-detection/source/creating_model/03_preprocessing.ipynb#ch0000008?line=1'>2</a>\u001b[0m artifact \u001b[39m=\u001b[39m run\u001b[39m.\u001b[39;49muse_artifact(input_artifact)\n\u001b[1;32m      <a href='vscode-notebook-cell:/home/luiz/repositorios/phishing-detection/source/creating_model/03_preprocessing.ipynb#ch0000008?line=3'>4</a>\u001b[0m \u001b[39m# create a dataframe artifact\u001b[39;00m\n\u001b[1;32m      <a href='vscode-notebook-cell:/home/luiz/repositorios/phishing-detection/source/creating_model/03_preprocessing.ipynb#ch0000008?line=4'>5</a>\u001b[0m df \u001b[39m=\u001b[39m pd\u001b[39m.\u001b[39mread_csv(artifact\u001b[39m.\u001b[39mfile())\n",
      "File \u001b[0;32m~/anaconda3/envs/phishing-detection/lib/python3.8/site-packages/wandb/sdk/wandb_run.py:222\u001b[0m, in \u001b[0;36m_run_decorator._attach.<locals>.wrapper\u001b[0;34m(self, *args, **kwargs)\u001b[0m\n\u001b[1;32m    <a href='file:///home/luiz/anaconda3/envs/phishing-detection/lib/python3.8/site-packages/wandb/sdk/wandb_run.py?line=219'>220</a>\u001b[0m         \u001b[39mraise\u001b[39;00m e\n\u001b[1;32m    <a href='file:///home/luiz/anaconda3/envs/phishing-detection/lib/python3.8/site-packages/wandb/sdk/wandb_run.py?line=220'>221</a>\u001b[0m     \u001b[39mcls\u001b[39m\u001b[39m.\u001b[39m_is_attaching \u001b[39m=\u001b[39m \u001b[39m\"\u001b[39m\u001b[39m\"\u001b[39m\n\u001b[0;32m--> <a href='file:///home/luiz/anaconda3/envs/phishing-detection/lib/python3.8/site-packages/wandb/sdk/wandb_run.py?line=221'>222</a>\u001b[0m \u001b[39mreturn\u001b[39;00m func(\u001b[39mself\u001b[39;49m, \u001b[39m*\u001b[39;49margs, \u001b[39m*\u001b[39;49m\u001b[39m*\u001b[39;49mkwargs)\n",
      "File \u001b[0;32m~/anaconda3/envs/phishing-detection/lib/python3.8/site-packages/wandb/sdk/wandb_run.py:2308\u001b[0m, in \u001b[0;36mRun.use_artifact\u001b[0;34m(self, artifact_or_name, type, aliases, use_as)\u001b[0m\n\u001b[1;32m   <a href='file:///home/luiz/anaconda3/envs/phishing-detection/lib/python3.8/site-packages/wandb/sdk/wandb_run.py?line=2305'>2306</a>\u001b[0m     name \u001b[39m=\u001b[39m artifact_or_name\n\u001b[1;32m   <a href='file:///home/luiz/anaconda3/envs/phishing-detection/lib/python3.8/site-packages/wandb/sdk/wandb_run.py?line=2306'>2307</a>\u001b[0m public_api \u001b[39m=\u001b[39m \u001b[39mself\u001b[39m\u001b[39m.\u001b[39m_public_api()\n\u001b[0;32m-> <a href='file:///home/luiz/anaconda3/envs/phishing-detection/lib/python3.8/site-packages/wandb/sdk/wandb_run.py?line=2307'>2308</a>\u001b[0m artifact \u001b[39m=\u001b[39m public_api\u001b[39m.\u001b[39;49martifact(\u001b[39mtype\u001b[39;49m\u001b[39m=\u001b[39;49m\u001b[39mtype\u001b[39;49m, name\u001b[39m=\u001b[39;49mname)\n\u001b[1;32m   <a href='file:///home/luiz/anaconda3/envs/phishing-detection/lib/python3.8/site-packages/wandb/sdk/wandb_run.py?line=2308'>2309</a>\u001b[0m \u001b[39mif\u001b[39;00m \u001b[39mtype\u001b[39m \u001b[39mis\u001b[39;00m \u001b[39mnot\u001b[39;00m \u001b[39mNone\u001b[39;00m \u001b[39mand\u001b[39;00m \u001b[39mtype\u001b[39m \u001b[39m!=\u001b[39m artifact\u001b[39m.\u001b[39mtype:\n\u001b[1;32m   <a href='file:///home/luiz/anaconda3/envs/phishing-detection/lib/python3.8/site-packages/wandb/sdk/wandb_run.py?line=2309'>2310</a>\u001b[0m     \u001b[39mraise\u001b[39;00m \u001b[39mValueError\u001b[39;00m(\n\u001b[1;32m   <a href='file:///home/luiz/anaconda3/envs/phishing-detection/lib/python3.8/site-packages/wandb/sdk/wandb_run.py?line=2310'>2311</a>\u001b[0m         \u001b[39m\"\u001b[39m\u001b[39mSupplied type \u001b[39m\u001b[39m{}\u001b[39;00m\u001b[39m does not match type \u001b[39m\u001b[39m{}\u001b[39;00m\u001b[39m of artifact \u001b[39m\u001b[39m{}\u001b[39;00m\u001b[39m\"\u001b[39m\u001b[39m.\u001b[39mformat(\n\u001b[1;32m   <a href='file:///home/luiz/anaconda3/envs/phishing-detection/lib/python3.8/site-packages/wandb/sdk/wandb_run.py?line=2311'>2312</a>\u001b[0m             \u001b[39mtype\u001b[39m, artifact\u001b[39m.\u001b[39mtype, artifact\u001b[39m.\u001b[39mname\n\u001b[1;32m   <a href='file:///home/luiz/anaconda3/envs/phishing-detection/lib/python3.8/site-packages/wandb/sdk/wandb_run.py?line=2312'>2313</a>\u001b[0m         )\n\u001b[1;32m   <a href='file:///home/luiz/anaconda3/envs/phishing-detection/lib/python3.8/site-packages/wandb/sdk/wandb_run.py?line=2313'>2314</a>\u001b[0m     )\n",
      "File \u001b[0;32m~/anaconda3/envs/phishing-detection/lib/python3.8/site-packages/wandb/apis/normalize.py:58\u001b[0m, in \u001b[0;36mnormalize_exceptions.<locals>.wrapper\u001b[0;34m(*args, **kwargs)\u001b[0m\n\u001b[1;32m     <a href='file:///home/luiz/anaconda3/envs/phishing-detection/lib/python3.8/site-packages/wandb/apis/normalize.py?line=55'>56</a>\u001b[0m     \u001b[39mraise\u001b[39;00m\n\u001b[1;32m     <a href='file:///home/luiz/anaconda3/envs/phishing-detection/lib/python3.8/site-packages/wandb/apis/normalize.py?line=56'>57</a>\u001b[0m \u001b[39melse\u001b[39;00m:\n\u001b[0;32m---> <a href='file:///home/luiz/anaconda3/envs/phishing-detection/lib/python3.8/site-packages/wandb/apis/normalize.py?line=57'>58</a>\u001b[0m     \u001b[39mraise\u001b[39;00m CommError(message, err)\u001b[39m.\u001b[39mwith_traceback(sys\u001b[39m.\u001b[39mexc_info()[\u001b[39m2\u001b[39m])\n",
      "File \u001b[0;32m~/anaconda3/envs/phishing-detection/lib/python3.8/site-packages/wandb/apis/normalize.py:22\u001b[0m, in \u001b[0;36mnormalize_exceptions.<locals>.wrapper\u001b[0;34m(*args, **kwargs)\u001b[0m\n\u001b[1;32m     <a href='file:///home/luiz/anaconda3/envs/phishing-detection/lib/python3.8/site-packages/wandb/apis/normalize.py?line=19'>20</a>\u001b[0m message \u001b[39m=\u001b[39m \u001b[39m\"\u001b[39m\u001b[39mWhoa, you found a bug.\u001b[39m\u001b[39m\"\u001b[39m\n\u001b[1;32m     <a href='file:///home/luiz/anaconda3/envs/phishing-detection/lib/python3.8/site-packages/wandb/apis/normalize.py?line=20'>21</a>\u001b[0m \u001b[39mtry\u001b[39;00m:\n\u001b[0;32m---> <a href='file:///home/luiz/anaconda3/envs/phishing-detection/lib/python3.8/site-packages/wandb/apis/normalize.py?line=21'>22</a>\u001b[0m     \u001b[39mreturn\u001b[39;00m func(\u001b[39m*\u001b[39;49margs, \u001b[39m*\u001b[39;49m\u001b[39m*\u001b[39;49mkwargs)\n\u001b[1;32m     <a href='file:///home/luiz/anaconda3/envs/phishing-detection/lib/python3.8/site-packages/wandb/apis/normalize.py?line=22'>23</a>\u001b[0m \u001b[39mexcept\u001b[39;00m requests\u001b[39m.\u001b[39mHTTPError \u001b[39mas\u001b[39;00m err:\n\u001b[1;32m     <a href='file:///home/luiz/anaconda3/envs/phishing-detection/lib/python3.8/site-packages/wandb/apis/normalize.py?line=23'>24</a>\u001b[0m     \u001b[39mraise\u001b[39;00m CommError(err\u001b[39m.\u001b[39mresponse, err)\n",
      "File \u001b[0;32m~/anaconda3/envs/phishing-detection/lib/python3.8/site-packages/wandb/apis/public.py:777\u001b[0m, in \u001b[0;36mApi.artifact\u001b[0;34m(self, name, type)\u001b[0m\n\u001b[1;32m    <a href='file:///home/luiz/anaconda3/envs/phishing-detection/lib/python3.8/site-packages/wandb/apis/public.py?line=774'>775</a>\u001b[0m     \u001b[39mraise\u001b[39;00m \u001b[39mValueError\u001b[39;00m(\u001b[39m\"\u001b[39m\u001b[39mYou must specify name= to fetch an artifact.\u001b[39m\u001b[39m\"\u001b[39m)\n\u001b[1;32m    <a href='file:///home/luiz/anaconda3/envs/phishing-detection/lib/python3.8/site-packages/wandb/apis/public.py?line=775'>776</a>\u001b[0m entity, project, artifact_name \u001b[39m=\u001b[39m \u001b[39mself\u001b[39m\u001b[39m.\u001b[39m_parse_artifact_path(name)\n\u001b[0;32m--> <a href='file:///home/luiz/anaconda3/envs/phishing-detection/lib/python3.8/site-packages/wandb/apis/public.py?line=776'>777</a>\u001b[0m artifact \u001b[39m=\u001b[39m Artifact(\u001b[39mself\u001b[39;49m\u001b[39m.\u001b[39;49mclient, entity, project, artifact_name)\n\u001b[1;32m    <a href='file:///home/luiz/anaconda3/envs/phishing-detection/lib/python3.8/site-packages/wandb/apis/public.py?line=777'>778</a>\u001b[0m \u001b[39mif\u001b[39;00m \u001b[39mtype\u001b[39m \u001b[39mis\u001b[39;00m \u001b[39mnot\u001b[39;00m \u001b[39mNone\u001b[39;00m \u001b[39mand\u001b[39;00m artifact\u001b[39m.\u001b[39mtype \u001b[39m!=\u001b[39m \u001b[39mtype\u001b[39m:\n\u001b[1;32m    <a href='file:///home/luiz/anaconda3/envs/phishing-detection/lib/python3.8/site-packages/wandb/apis/public.py?line=778'>779</a>\u001b[0m     \u001b[39mraise\u001b[39;00m \u001b[39mValueError\u001b[39;00m(\n\u001b[1;32m    <a href='file:///home/luiz/anaconda3/envs/phishing-detection/lib/python3.8/site-packages/wandb/apis/public.py?line=779'>780</a>\u001b[0m         \u001b[39mf\u001b[39m\u001b[39m\"\u001b[39m\u001b[39mtype \u001b[39m\u001b[39m{\u001b[39;00m\u001b[39mtype\u001b[39m\u001b[39m}\u001b[39;00m\u001b[39m specified but this artifact is of type \u001b[39m\u001b[39m{\u001b[39;00martifact\u001b[39m.\u001b[39mtype\u001b[39m}\u001b[39;00m\u001b[39m\"\u001b[39m\n\u001b[1;32m    <a href='file:///home/luiz/anaconda3/envs/phishing-detection/lib/python3.8/site-packages/wandb/apis/public.py?line=780'>781</a>\u001b[0m     )\n",
      "File \u001b[0;32m~/anaconda3/envs/phishing-detection/lib/python3.8/site-packages/wandb/apis/public.py:3493\u001b[0m, in \u001b[0;36mArtifact.__init__\u001b[0;34m(self, client, entity, project, name, attrs)\u001b[0m\n\u001b[1;32m   <a href='file:///home/luiz/anaconda3/envs/phishing-detection/lib/python3.8/site-packages/wandb/apis/public.py?line=3490'>3491</a>\u001b[0m \u001b[39mself\u001b[39m\u001b[39m.\u001b[39m_attrs \u001b[39m=\u001b[39m attrs\n\u001b[1;32m   <a href='file:///home/luiz/anaconda3/envs/phishing-detection/lib/python3.8/site-packages/wandb/apis/public.py?line=3491'>3492</a>\u001b[0m \u001b[39mif\u001b[39;00m \u001b[39mself\u001b[39m\u001b[39m.\u001b[39m_attrs \u001b[39mis\u001b[39;00m \u001b[39mNone\u001b[39;00m:\n\u001b[0;32m-> <a href='file:///home/luiz/anaconda3/envs/phishing-detection/lib/python3.8/site-packages/wandb/apis/public.py?line=3492'>3493</a>\u001b[0m     \u001b[39mself\u001b[39;49m\u001b[39m.\u001b[39;49m_load()\n\u001b[1;32m   <a href='file:///home/luiz/anaconda3/envs/phishing-detection/lib/python3.8/site-packages/wandb/apis/public.py?line=3493'>3494</a>\u001b[0m \u001b[39mself\u001b[39m\u001b[39m.\u001b[39m_metadata \u001b[39m=\u001b[39m json\u001b[39m.\u001b[39mloads(\u001b[39mself\u001b[39m\u001b[39m.\u001b[39m_attrs\u001b[39m.\u001b[39mget(\u001b[39m\"\u001b[39m\u001b[39mmetadata\u001b[39m\u001b[39m\"\u001b[39m) \u001b[39mor\u001b[39;00m \u001b[39m\"\u001b[39m\u001b[39m{}\u001b[39;00m\u001b[39m\"\u001b[39m)\n\u001b[1;32m   <a href='file:///home/luiz/anaconda3/envs/phishing-detection/lib/python3.8/site-packages/wandb/apis/public.py?line=3494'>3495</a>\u001b[0m \u001b[39mself\u001b[39m\u001b[39m.\u001b[39m_description \u001b[39m=\u001b[39m \u001b[39mself\u001b[39m\u001b[39m.\u001b[39m_attrs\u001b[39m.\u001b[39mget(\u001b[39m\"\u001b[39m\u001b[39mdescription\u001b[39m\u001b[39m\"\u001b[39m, \u001b[39mNone\u001b[39;00m)\n",
      "File \u001b[0;32m~/anaconda3/envs/phishing-detection/lib/python3.8/site-packages/wandb/apis/public.py:4060\u001b[0m, in \u001b[0;36mArtifact._load\u001b[0;34m(self)\u001b[0m\n\u001b[1;32m   <a href='file:///home/luiz/anaconda3/envs/phishing-detection/lib/python3.8/site-packages/wandb/apis/public.py?line=4051'>4052</a>\u001b[0m         \u001b[39mraise\u001b[39;00m \u001b[39mValueError\u001b[39;00m(\n\u001b[1;32m   <a href='file:///home/luiz/anaconda3/envs/phishing-detection/lib/python3.8/site-packages/wandb/apis/public.py?line=4052'>4053</a>\u001b[0m             \u001b[39m'\u001b[39m\u001b[39mAttempted to fetch artifact without alias (e.g. \u001b[39m\u001b[39m\"\u001b[39m\u001b[39m<artifact_name>:v3\u001b[39m\u001b[39m\"\u001b[39m\u001b[39m or \u001b[39m\u001b[39m\"\u001b[39m\u001b[39m<artifact_name>:latest\u001b[39m\u001b[39m\"\u001b[39m\u001b[39m)\u001b[39m\u001b[39m'\u001b[39m\n\u001b[1;32m   <a href='file:///home/luiz/anaconda3/envs/phishing-detection/lib/python3.8/site-packages/wandb/apis/public.py?line=4053'>4054</a>\u001b[0m         )\n\u001b[1;32m   <a href='file:///home/luiz/anaconda3/envs/phishing-detection/lib/python3.8/site-packages/wandb/apis/public.py?line=4054'>4055</a>\u001b[0m \u001b[39mif\u001b[39;00m (\n\u001b[1;32m   <a href='file:///home/luiz/anaconda3/envs/phishing-detection/lib/python3.8/site-packages/wandb/apis/public.py?line=4055'>4056</a>\u001b[0m     response \u001b[39mis\u001b[39;00m \u001b[39mNone\u001b[39;00m\n\u001b[1;32m   <a href='file:///home/luiz/anaconda3/envs/phishing-detection/lib/python3.8/site-packages/wandb/apis/public.py?line=4056'>4057</a>\u001b[0m     \u001b[39mor\u001b[39;00m response\u001b[39m.\u001b[39mget(\u001b[39m\"\u001b[39m\u001b[39mproject\u001b[39m\u001b[39m\"\u001b[39m) \u001b[39mis\u001b[39;00m \u001b[39mNone\u001b[39;00m\n\u001b[1;32m   <a href='file:///home/luiz/anaconda3/envs/phishing-detection/lib/python3.8/site-packages/wandb/apis/public.py?line=4057'>4058</a>\u001b[0m     \u001b[39mor\u001b[39;00m response[\u001b[39m\"\u001b[39m\u001b[39mproject\u001b[39m\u001b[39m\"\u001b[39m]\u001b[39m.\u001b[39mget(\u001b[39m\"\u001b[39m\u001b[39martifact\u001b[39m\u001b[39m\"\u001b[39m) \u001b[39mis\u001b[39;00m \u001b[39mNone\u001b[39;00m\n\u001b[1;32m   <a href='file:///home/luiz/anaconda3/envs/phishing-detection/lib/python3.8/site-packages/wandb/apis/public.py?line=4058'>4059</a>\u001b[0m ):\n\u001b[0;32m-> <a href='file:///home/luiz/anaconda3/envs/phishing-detection/lib/python3.8/site-packages/wandb/apis/public.py?line=4059'>4060</a>\u001b[0m     \u001b[39mraise\u001b[39;00m \u001b[39mValueError\u001b[39;00m(\n\u001b[1;32m   <a href='file:///home/luiz/anaconda3/envs/phishing-detection/lib/python3.8/site-packages/wandb/apis/public.py?line=4060'>4061</a>\u001b[0m         \u001b[39m'\u001b[39m\u001b[39mProject \u001b[39m\u001b[39m%s\u001b[39;00m\u001b[39m/\u001b[39m\u001b[39m%s\u001b[39;00m\u001b[39m does not contain artifact: \u001b[39m\u001b[39m\"\u001b[39m\u001b[39m%s\u001b[39;00m\u001b[39m\"\u001b[39m\u001b[39m'\u001b[39m\n\u001b[1;32m   <a href='file:///home/luiz/anaconda3/envs/phishing-detection/lib/python3.8/site-packages/wandb/apis/public.py?line=4061'>4062</a>\u001b[0m         \u001b[39m%\u001b[39m (\u001b[39mself\u001b[39m\u001b[39m.\u001b[39mentity, \u001b[39mself\u001b[39m\u001b[39m.\u001b[39mproject, \u001b[39mself\u001b[39m\u001b[39m.\u001b[39m_artifact_name)\n\u001b[1;32m   <a href='file:///home/luiz/anaconda3/envs/phishing-detection/lib/python3.8/site-packages/wandb/apis/public.py?line=4062'>4063</a>\u001b[0m     )\n\u001b[1;32m   <a href='file:///home/luiz/anaconda3/envs/phishing-detection/lib/python3.8/site-packages/wandb/apis/public.py?line=4063'>4064</a>\u001b[0m \u001b[39mself\u001b[39m\u001b[39m.\u001b[39m_attrs \u001b[39m=\u001b[39m response[\u001b[39m\"\u001b[39m\u001b[39mproject\u001b[39m\u001b[39m\"\u001b[39m][\u001b[39m\"\u001b[39m\u001b[39martifact\u001b[39m\u001b[39m\"\u001b[39m]\n\u001b[1;32m   <a href='file:///home/luiz/anaconda3/envs/phishing-detection/lib/python3.8/site-packages/wandb/apis/public.py?line=4064'>4065</a>\u001b[0m \u001b[39mreturn\u001b[39;00m \u001b[39mself\u001b[39m\u001b[39m.\u001b[39m_attrs\n",
      "\u001b[0;31mCommError\u001b[0m: Project lupamedeiros/phishing\\-detection does not contain artifact: \"raw_data.csv:latest\""
     ]
    }
   ],
   "source": [
    "# download the latest version of artifact raw_data.csv\n",
    "artifact = run.use_artifact(input_artifact)\n",
    "\n",
    "# create a dataframe artifact\n",
    "df = pd.read_csv(artifact.file())"
   ]
  },
  {
   "cell_type": "code",
   "execution_count": null,
   "metadata": {},
   "outputs": [],
   "source": []
  }
 ],
 "metadata": {
  "interpreter": {
   "hash": "64018d2d3ee98759d0275bb8cc7c4f7a808fe4d9340c16f4f39e787a7309ea4a"
  },
  "kernelspec": {
   "display_name": "Python 3.8.13 ('phishing-detection')",
   "language": "python",
   "name": "python3"
  },
  "language_info": {
   "codemirror_mode": {
    "name": "ipython",
    "version": 3
   },
   "file_extension": ".py",
   "mimetype": "text/x-python",
   "name": "python",
   "nbconvert_exporter": "python",
   "pygments_lexer": "ipython3",
   "version": "3.8.13"
  },
  "orig_nbformat": 4
 },
 "nbformat": 4,
 "nbformat_minor": 2
}
